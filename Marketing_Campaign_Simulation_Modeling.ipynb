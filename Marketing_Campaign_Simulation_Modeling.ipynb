{
 "cells": [
  {
   "cell_type": "markdown",
   "metadata": {},
   "source": [
    "# Marketing Campaign Simulation Modeling\n",
    "\n",
    "**Case**: Marketing Campaign\n",
    "\n",
    "**Data**: Probability that client would buy a product\n",
    "- 500000 clients\n",
    "- probabilitiy of buying a product for every client that is the a result of another model\n",
    "\n",
    "**Goal**: Find target group parameters to maximize profit.\n",
    "\n",
    "**Target Function**: $profit = N_{sales}\\cdot avg(income_{sales}) - N_{contacts} \\cdot avg(cost_{contact})$\n",
    "\n",
    "To compute profit we need information about sale income and contact cost\n",
    "- sale income is \\$10\n",
    "- contact cost is \\$2, it can be a distribution that we get from a more complex model for costs of contact, e.g., fixed costs plus variable cost based on duration of phone calls\n",
    " \n",
    "Our goal is\n",
    " - *maximize sales*, i.e., number of clients that buy the product\n",
    " - *minimize cost of contacting each client*, i.e, salary of client representatives\n",
    " \n",
    "**Sales Uplift**: we choose a simple model of \"uplift\", e.g., probability of sale will increase by 10% if a client gets a call from the client representative\n",
    "\n",
    "We assume uniform distribution for the probability of sale:\n",
    " - if random number generated from np.uniform(0,1) distribution is < prob of sale for that client: client would buy the product\n",
    " - if random number generated from np.uniform(0,1) distribution is >= prob of sale for that client: client would not buy the product\n",
    "\n",
    "In this notebook, we model if a bank client would buy an investment product.\n",
    "\n",
    "We will do simulation modeling using the Monte Carlo technique."
   ]
  },
  {
   "cell_type": "markdown",
   "metadata": {},
   "source": [
    "#### Import necessary libraries"
   ]
  },
  {
   "cell_type": "code",
   "execution_count": 4,
   "metadata": {},
   "outputs": [],
   "source": [
    "import numpy.random as rnd\n",
    "import numpy as np\n",
    "import pandas as pd\n",
    "try:\n",
    "    from ggplot import *\n",
    "except:\n",
    "    !pip install ggplot\n",
    "    from ggplot import *\n",
    "from ggplot.scales.scale_color_gradient import *\n",
    "%matplotlib inline"
   ]
  },
  {
   "cell_type": "markdown",
   "metadata": {},
   "source": [
    "#### Import data"
   ]
  },
  {
   "cell_type": "code",
   "execution_count": 5,
   "metadata": {},
   "outputs": [
    {
     "data": {
      "text/html": [
       "<div>\n",
       "<style>\n",
       "    .dataframe thead tr:only-child th {\n",
       "        text-align: right;\n",
       "    }\n",
       "\n",
       "    .dataframe thead th {\n",
       "        text-align: left;\n",
       "    }\n",
       "\n",
       "    .dataframe tbody tr th {\n",
       "        vertical-align: top;\n",
       "    }\n",
       "</style>\n",
       "<table border=\"1\" class=\"dataframe\">\n",
       "  <thead>\n",
       "    <tr style=\"text-align: right;\">\n",
       "      <th></th>\n",
       "      <th>probabilities</th>\n",
       "    </tr>\n",
       "  </thead>\n",
       "  <tbody>\n",
       "    <tr>\n",
       "      <th>0</th>\n",
       "      <td>0.032355</td>\n",
       "    </tr>\n",
       "    <tr>\n",
       "      <th>1</th>\n",
       "      <td>0.033055</td>\n",
       "    </tr>\n",
       "    <tr>\n",
       "      <th>2</th>\n",
       "      <td>0.012665</td>\n",
       "    </tr>\n",
       "    <tr>\n",
       "      <th>3</th>\n",
       "      <td>0.037067</td>\n",
       "    </tr>\n",
       "    <tr>\n",
       "      <th>4</th>\n",
       "      <td>0.016160</td>\n",
       "    </tr>\n",
       "  </tbody>\n",
       "</table>\n",
       "</div>"
      ],
      "text/plain": [
       "   probabilities\n",
       "0       0.032355\n",
       "1       0.033055\n",
       "2       0.012665\n",
       "3       0.037067\n",
       "4       0.016160"
      ]
     },
     "execution_count": 5,
     "metadata": {},
     "output_type": "execute_result"
    }
   ],
   "source": [
    "data = pd.read_csv('sale_probability.csv')\n",
    "data.head()"
   ]
  },
  {
   "cell_type": "markdown",
   "metadata": {},
   "source": [
    "#### Plot histogram of sales probabilities"
   ]
  },
  {
   "cell_type": "code",
   "execution_count": 6,
   "metadata": {},
   "outputs": [
    {
     "data": {
      "image/png": "[encoded data removed]",
      "text/plain": [
       "<matplotlib.figure.Figure at 0xc61eef0>"
      ]
     },
     "metadata": {},
     "output_type": "display_data"
    },
    {
     "data": {
      "text/plain": [
       "<ggplot: (-9223372036845170460)>"
      ]
     },
     "execution_count": 6,
     "metadata": {},
     "output_type": "execute_result"
    }
   ],
   "source": [
    "ggplot(aes(x='Sales probability'), data=pd.DataFrame({ 'Sales probability' : data['probabilities'] })) \\\n",
    "    + geom_histogram(binwidth=0.02, color='darkcyan', fill=\"white\") \\\n",
    "    + geom_vline(x=[0.30, 0.70], linetype='dashed', color=\"indigo\")"
   ]
  },
  {
   "cell_type": "markdown",
   "metadata": {},
   "source": [
    "We need to select a group of clients to be contacted, e.g., by phone, about the investment product. Our goal is to maximize sales (number of clients that buy the product) and minimize cost of contact (cost of contacting the client, e.g., salary of client representatives).\n",
    "\n",
    "To achieve our goal we can simulate marketing campaign for the sales using probabilities of sales for each client that we have in the dataset. Simulation modeling would allow us to select parameters ${\\rm min\\_probability}$ and ${\\rm max\\_probability}$  that give us a list of clients that need to be contacted.\n",
    "\n",
    "To enhance our model we can try compute if phone call to a client would increase or decrease a probability of sale (sales uplift) if we have data about previous contacts with clients. As we do not have it, we would choose a simple model of \"uplift\" - probability of sale will increase by 10% if a clients gets a call from the client representative."
   ]
  },
  {
   "cell_type": "markdown",
   "metadata": {},
   "source": [
    "Profit function from phone calls is:\n",
    "$$profit=N_{sales}*avg(income_{sale})-N_{contacts}*avg(costs_{contact})$$\n",
    "To enhace our simulation model we may use more complex model for costs of contact, e.g., fixed cost plus variable cost based on duration of phone calls."
   ]
  },
  {
   "cell_type": "markdown",
   "metadata": {
    "collapsed": true
   },
   "source": [
    "Here we follow this basic algorithm:\n",
    "1. Select target group parameters (min_probability, max_probability)\n",
    "2. Compute contact uplift (add 0.1 to probability)\n",
    "3. Simulate sales using obtained probabilities\n",
    "4. Calculate profit function\n",
    "5. Repeat 100 times to get average values\n",
    "6. Find the best target group parameters"
   ]
  },
  {
   "cell_type": "code",
   "execution_count": 7,
   "metadata": {},
   "outputs": [],
   "source": [
    "result = []\n",
    "def monte_carlo_coin(probability):\n",
    "    r = rnd.uniform()\n",
    "    return int(r < probability)\n",
    "\n",
    "def profit(n_sales, n_contacts):\n",
    "    avg_income_sale = 10.0\n",
    "    avg_costs_contact = 2.0\n",
    "    return n_sales*avg_income_sale - n_contacts*avg_costs_contact"
   ]
  },
  {
   "cell_type": "code",
   "execution_count": 8,
   "metadata": {},
   "outputs": [
    {
     "data": {
      "text/plain": [
       "1"
      ]
     },
     "execution_count": 8,
     "metadata": {},
     "output_type": "execute_result"
    }
   ],
   "source": [
    "monte_carlo_coin(0.9)"
   ]
  },
  {
   "cell_type": "code",
   "execution_count": 13,
   "metadata": {},
   "outputs": [
    {
     "name": "stderr",
     "output_type": "stream",
     "text": [
      "C:\\Users\\IBM_ADMIN\\Anaconda2\\lib\\site-packages\\ipykernel\\__main__.py:6: DeprecationWarning: \n",
      ".ix is deprecated. Please use\n",
      ".loc for label based indexing or\n",
      ".iloc for positional indexing\n",
      "\n",
      "See the documentation here:\n",
      "http://pandas.pydata.org/pandas-docs/stable/indexing.html#ix-indexer-is-deprecated\n"
     ]
    }
   ],
   "source": [
    "for min_probability in np.arange(0.0,0.9,0.1):\n",
    "    for max_probability in np.arange(min_probability+0.1,1.0,0.1):\n",
    "        # uplift\n",
    "        target_group = data.probabilities.between(min_probability, max_probability)\n",
    "        data_after_contact = data.copy()\n",
    "        data_after_contact.ix[target_group, 'probabilities'] = data.ix[target_group].probabilities + 0.1\n",
    "        \n",
    "        prof = 0\n",
    "        for _ in range(10):\n",
    "            # simulation\n",
    "            data_after_contact['sales'] = data_after_contact['probabilities'].apply(monte_carlo_coin)\n",
    "\n",
    "            # results\n",
    "            sales = data_after_contact['sales'].sum(axis=0)\n",
    "            calls = target_group.sum(axis=0)\n",
    "            prof += profit(sales, calls)\n",
    "        prof /= 10\n",
    "        result.append((min_probability, max_probability, sales, calls, prof))"
   ]
  },
  {
   "cell_type": "code",
   "execution_count": 60,
   "metadata": {},
   "outputs": [
    {
     "data": {
      "text/plain": [
       "(0.60000000000000009, 0.70000000000000007, 18857, 49, 187380.0)"
      ]
     },
     "execution_count": 60,
     "metadata": {},
     "output_type": "execute_result"
    }
   ],
   "source": [
    "best_results = sorted(result, key=lambda x: x[4])\n",
    "best_results[-1]"
   ]
  },
  {
   "cell_type": "code",
   "execution_count": 61,
   "metadata": {},
   "outputs": [
    {
     "data": {
      "text/plain": [
       "[(0.5, 0.59999999999999998, 18997, 138, 186914.0),\n",
       " (0.40000000000000002, 0.59999999999999998, 18780, 439, 186964.0),\n",
       " (0.60000000000000009, 0.70000000000000007, 18857, 49, 187380.0)]"
      ]
     },
     "execution_count": 61,
     "metadata": {},
     "output_type": "execute_result"
    }
   ],
   "source": [
    "best_results[-3::1]"
   ]
  },
  {
   "cell_type": "markdown",
   "metadata": {},
   "source": [
    "As a result we get a target group of clients to contact. The target group has middle ranges of probability values, namely 0.4 to 0.7 (smallest ${\\rm min\\_probability}$ and largest ${\\rm max\\_probability}$ among three best results) as clients with small probability values would not buy the product even if they get a phone call, while clients with high probability fo sale already decided to buy a product and the phone call would not help."
   ]
  },
  {
   "cell_type": "code",
   "execution_count": 62,
   "metadata": {},
   "outputs": [
    {
     "name": "stdout",
     "output_type": "stream",
     "text": [
      "<class 'ggplot.scales.scale_color_gradient.scale_color_gradient'>\n"
     ]
    },
    {
     "data": {
      "image/png": "[encoded data removed]",
      "text/plain": [
       "<matplotlib.figure.Figure at 0x7f6cf0ea36d0>"
      ]
     },
     "metadata": {},
     "output_type": "display_data"
    },
    {
     "data": {
      "text/plain": [
       "<ggplot: (8756671033577)>"
      ]
     },
     "execution_count": 62,
     "metadata": {},
     "output_type": "execute_result"
    }
   ],
   "source": [
    "vis = pd.DataFrame(result, columns=['Minimal probability', 'Maximum probability', 'No of sales', 'No of calls', 'Profit'])\n",
    "print scale_color_gradient\n",
    "ggplot(vis, aes(x='Minimal probability', y='Maximum probability', color='Profit')) + \\\n",
    "    geom_point(size=50) + \\\n",
    "    scale_color_gradient(low='blue', high='red')"
   ]
  }
 ],
 "metadata": {
  "anaconda-cloud": {},
  "kernelspec": {
   "display_name": "Python 3",
   "language": "python",
   "name": "python3"
  },
  "language_info": {
   "codemirror_mode": {
    "name": "ipython",
    "version": 3
   },
   "file_extension": ".py",
   "mimetype": "text/x-python",
   "name": "python",
   "nbconvert_exporter": "python",
   "pygments_lexer": "ipython3",
   "version": "3.6.3"
  },
  "widgets": {
   "state": {},
   "version": "1.1.2"
  }
 },
 "nbformat": 4,
 "nbformat_minor": 1
}
