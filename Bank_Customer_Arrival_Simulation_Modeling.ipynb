{
 "cells": [
  {
   "cell_type": "markdown",
   "metadata": {},
   "source": [
    "# Bank Customer Arrival Simulation Modeling\n",
    "\n",
    "In this notebook, a simple bank customer arrival model is presented. We will use Poisson distribution to model the arrival and departure times."
   ]
  },
  {
   "cell_type": "markdown",
   "metadata": {},
   "source": [
    "#### Download necessary libraries"
   ]
  },
  {
   "cell_type": "code",
   "execution_count": 1,
   "metadata": {},
   "outputs": [
    {
     "name": "stdout",
     "output_type": "stream",
     "text": [
      "Requirement already satisfied: pandas in /usr/local/lib/python3.5/dist-packages\n",
      "Requirement already satisfied: numpy>=1.7.0 in /usr/local/lib/python3.5/dist-packages (from pandas)\n",
      "Requirement already satisfied: python-dateutil>=2 in /usr/local/lib/python3.5/dist-packages (from pandas)\n",
      "Requirement already satisfied: pytz>=2011k in /usr/local/lib/python3.5/dist-packages (from pandas)\n",
      "Requirement already satisfied: six>=1.5 in /usr/lib/python3/dist-packages (from python-dateutil>=2->pandas)\n",
      "Requirement already satisfied: matplotlib in /usr/local/lib/python3.5/dist-packages\n",
      "Requirement already satisfied: numpy>=1.6 in /usr/local/lib/python3.5/dist-packages (from matplotlib)\n",
      "Requirement already satisfied: python-dateutil in /usr/local/lib/python3.5/dist-packages (from matplotlib)\n",
      "Requirement already satisfied: cycler in /usr/local/lib/python3.5/dist-packages (from matplotlib)\n",
      "Requirement already satisfied: pytz in /usr/local/lib/python3.5/dist-packages (from matplotlib)\n",
      "Requirement already satisfied: pyparsing!=2.0.0,!=2.0.4,!=2.1.2,>=1.5.6 in /usr/local/lib/python3.5/dist-packages (from matplotlib)\n",
      "Requirement already satisfied: six>=1.5 in /usr/lib/python3/dist-packages (from python-dateutil->matplotlib)\n",
      "Requirement already satisfied: scipy in /usr/local/lib/python3.5/dist-packages\n"
     ]
    }
   ],
   "source": [
    "!pip install pandas\n",
    "!pip install matplotlib\n",
    "!pip install scipy"
   ]
  },
  {
   "cell_type": "markdown",
   "metadata": {},
   "source": [
    "#### Import necessary libraries"
   ]
  },
  {
   "cell_type": "code",
   "execution_count": 1,
   "metadata": {},
   "outputs": [],
   "source": [
    "import random\n",
    "import itertools\n",
    "import numpy as np\n",
    "import pandas as pd\n",
    "from scipy import stats\n",
    "import matplotlib.pyplot as plt\n",
    "from matplotlib import collections  as mc\n",
    "\n",
    "%matplotlib inline"
   ]
  },
  {
   "cell_type": "markdown",
   "metadata": {},
   "source": [
    "## Simulation Parameters\n",
    "Define the parameters used to simulate user data."
   ]
  },
  {
   "cell_type": "markdown",
   "metadata": {},
   "source": [
    "#### Define poisson variables\n",
    "Define the parameters of the Poisson distribution for customers arriving and departing."
   ]
  },
  {
   "cell_type": "code",
   "execution_count": 2,
   "metadata": {},
   "outputs": [],
   "source": [
    "lambd_in = 0.5\n",
    "lambd_out = 0.4"
   ]
  },
  {
   "cell_type": "markdown",
   "metadata": {},
   "source": [
    "#### Define System Parameters"
   ]
  },
  {
   "cell_type": "code",
   "execution_count": 3,
   "metadata": {},
   "outputs": [],
   "source": [
    "#bank variables\n",
    "closing_time =  100      #initialize the bank closing time \n",
    "overtime = 0             #overtime the employees need to be paid for\n",
    "    \n",
    "#queue variables\n",
    "num_arrivals = 0    #number of people in the que\n",
    "num_departures = 0  #number of people who have been served\n",
    "n = 0               #length of the queue  \n",
    "max_line_length = 0 #the maximum length of the waiting line: \n",
    "    \n",
    "#time variables\n",
    "t = 0                                       #set the time of first arrival to 0\n",
    "time_depart = float('inf')                  #set the first time of departure to infinity\n",
    "time_arrive = random.expovariate(lambd_in)  #generate the first arrival"
   ]
  },
  {
   "cell_type": "markdown",
   "metadata": {},
   "source": [
    "## Distribution Plots"
   ]
  },
  {
   "cell_type": "markdown",
   "metadata": {},
   "source": [
    "#### Plot customer arrival distribution"
   ]
  },
  {
   "cell_type": "code",
   "execution_count": 4,
   "metadata": {},
   "outputs": [
    {
     "data": {
      "text/plain": [
       "Text(0.5,1,'Customer Arrival Poisson Distribution w/ lambda=0.5')"
      ]
     },
     "execution_count": 4,
     "metadata": {},
     "output_type": "execute_result"
    },
    {
     "data": {
      "image/png": "[encoded data removed]",
      "text/plain": [
       "<matplotlib.figure.Figure at 0xb706ba8>"
      ]
     },
     "metadata": {},
     "output_type": "display_data"
    }
   ],
   "source": [
    "arrival_dist = stats.poisson.rvs(\n",
    "                    size=10000,  \n",
    "                    mu=lambd_in,\n",
    ")\n",
    "pd.DataFrame(arrival_dist).hist(range=(-0.5,max(arrival_dist)+0.5),\n",
    "                                   bins=max(arrival_dist)+1)\n",
    "\n",
    "plt.title('Customer Arrival Poisson Distribution w/ lambda=0.5')"
   ]
  },
  {
   "cell_type": "markdown",
   "metadata": {},
   "source": [
    "#### Plot customer deparature distribution"
   ]
  },
  {
   "cell_type": "code",
   "execution_count": 5,
   "metadata": {},
   "outputs": [
    {
     "data": {
      "text/plain": [
       "Text(0.5,1,'Customer Departure Poisson Distribution w/ lambda=0.4')"
      ]
     },
     "execution_count": 5,
     "metadata": {},
     "output_type": "execute_result"
    },
    {
     "data": {
      "image/png": "[encoded data removed]",
      "text/plain": [
       "<matplotlib.figure.Figure at 0xb7068d0>"
      ]
     },
     "metadata": {},
     "output_type": "display_data"
    }
   ],
   "source": [
    "departure_dist = stats.poisson.rvs(\n",
    "                    size=10000,  \n",
    "                    mu=lambd_out         \n",
    ")\n",
    "pd.DataFrame(departure_dist).hist(range=(-0.5,max(departure_dist)+0.5),\n",
    "                                   bins=max(departure_dist)+1)\n",
    "\n",
    "plt.title('Customer Departure Poisson Distribution w/ lambda=0.4')"
   ]
  },
  {
   "cell_type": "markdown",
   "metadata": {},
   "source": [
    "## Simulation"
   ]
  },
  {
   "cell_type": "markdown",
   "metadata": {},
   "source": [
    "Create two empty arrays to keep track of the customers who arrive, and who depart:"
   ]
  },
  {
   "cell_type": "code",
   "execution_count": 6,
   "metadata": {},
   "outputs": [],
   "source": [
    "departures = []\n",
    "arrivals = []"
   ]
  },
  {
   "cell_type": "markdown",
   "metadata": {},
   "source": [
    "We simulate the arrivals and departures in a bank branch using a while loop"
   ]
  },
  {
   "cell_type": "code",
   "execution_count": 7,
   "metadata": {},
   "outputs": [
    {
     "name": "stdout",
     "output_type": "stream",
     "text": [
      "Arrival  1 at time  0.733296490029948\n",
      "Arrival  2 at time  3.648173712202563\n",
      "Arrival  3 at time  4.140127705901769\n",
      "Arrival  4 at time  4.416501553018321\n",
      "Arrival  5 at time  4.6550054306912205\n",
      "Arrival  6 at time  5.174142265880513\n",
      "Arrival  7 at time  6.759724722689841\n",
      "Arrival  8 at time  7.395942875233711\n",
      "Departure  1 at time  7.443190283970995\n",
      "Arrival  9 at time  8.204146467792725\n",
      "Arrival  10 at time  8.935351934310301\n",
      "Departure  2 at time  9.66275765091389\n",
      "Arrival  11 at time  10.312080719279901\n",
      "Departure  3 at time  11.427653216357287\n",
      "Arrival  12 at time  11.6558223093472\n",
      "Departure  4 at time  12.127844354420656\n",
      "Arrival  13 at time  12.595867658513043\n",
      "Arrival  14 at time  13.17327406074116\n",
      "Arrival  15 at time  13.493691303777982\n",
      "Departure  5 at time  16.036377028217405\n",
      "Departure  6 at time  16.9300586550363\n",
      "Departure  7 at time  17.82191078573947\n",
      "Arrival  16 at time  17.905574282651855\n",
      "Departure  8 at time  18.181228832484155\n",
      "Arrival  17 at time  18.780845236232413\n",
      "Arrival  18 at time  19.038556049027584\n",
      "Departure  9 at time  21.057918470059718\n",
      "Arrival  19 at time  25.311924375451106\n",
      "Arrival  20 at time  25.676975907699575\n",
      "Departure  10 at time  27.953627143270047\n",
      "Arrival  21 at time  28.119216652080144\n",
      "Departure  11 at time  28.759957229631347\n",
      "Arrival  22 at time  29.839163196570134\n",
      "Departure  12 at time  30.53749451291219\n",
      "Arrival  23 at time  32.3553258870814\n",
      "Departure  13 at time  33.23251760903791\n",
      "Arrival  24 at time  33.77542237032467\n",
      "Arrival  25 at time  33.80870595179915\n",
      "Arrival  26 at time  34.932124711717854\n",
      "Arrival  27 at time  35.11093496850045\n",
      "Departure  14 at time  35.31939835749194\n",
      "Departure  15 at time  37.99439258204295\n",
      "Arrival  28 at time  43.96265677655499\n",
      "Departure  16 at time  44.50962347916571\n",
      "Arrival  29 at time  44.85660443214445\n",
      "Departure  17 at time  44.95067820761948\n",
      "Arrival  30 at time  46.33962461008413\n",
      "Arrival  31 at time  48.18820112874562\n",
      "Departure  18 at time  48.3788833436899\n",
      "Departure  19 at time  48.37908893471278\n",
      "Arrival  32 at time  49.00820015119214\n",
      "Departure  20 at time  50.18762518442702\n",
      "Arrival  33 at time  50.61023024834492\n",
      "Departure  21 at time  51.21913566567305\n",
      "Arrival  34 at time  53.619427261769594\n",
      "Arrival  35 at time  54.70226715652341\n",
      "Departure  22 at time  56.50227958172998\n",
      "Arrival  36 at time  57.50990730644264\n",
      "Departure  23 at time  57.76593710408674\n",
      "Departure  24 at time  57.77124052786243\n",
      "Arrival  37 at time  58.34767539401649\n",
      "Arrival  38 at time  59.434917734763005\n",
      "Arrival  39 at time  59.621882655591996\n",
      "Departure  25 at time  60.22508382914688\n",
      "Arrival  40 at time  61.12198292682355\n",
      "Departure  26 at time  61.99070397635916\n",
      "Arrival  41 at time  62.24628397843986\n",
      "Arrival  42 at time  62.55734540807238\n",
      "Arrival  43 at time  62.63769103131375\n",
      "Departure  27 at time  63.2048509792523\n",
      "Arrival  44 at time  64.30093297829816\n",
      "Departure  28 at time  64.57324162602752\n",
      "Arrival  45 at time  64.74681301327182\n",
      "Arrival  46 at time  64.94568815384287\n",
      "Arrival  47 at time  68.49458263315198\n",
      "Departure  29 at time  68.95288503575235\n",
      "Arrival  48 at time  69.40302932696008\n",
      "Departure  30 at time  69.51008447849644\n",
      "Arrival  49 at time  70.56029511135739\n",
      "Departure  31 at time  71.76629452297252\n",
      "Arrival  50 at time  73.31274304508362\n",
      "Departure  32 at time  74.2044702207161\n",
      "Departure  33 at time  75.11257850582486\n",
      "Departure  34 at time  75.16333957991917\n",
      "Departure  35 at time  77.37504924249477\n",
      "Departure  36 at time  79.35113165937884\n",
      "Arrival  51 at time  79.8648301426087\n",
      "Departure  37 at time  80.19348316849545\n",
      "Departure  38 at time  82.44453517072394\n",
      "Arrival  52 at time  84.02246848878379\n",
      "Arrival  53 at time  85.27079305410784\n",
      "Arrival  54 at time  85.68198486376686\n",
      "Arrival  55 at time  85.7588796667549\n",
      "Departure  39 at time  86.78899094909553\n",
      "Departure  40 at time  87.18965721326926\n",
      "Arrival  56 at time  88.15870960939746\n",
      "Departure  41 at time  91.11349493007982\n",
      "Departure  42 at time  92.6734208463088\n",
      "Departure  43 at time  93.78104572979132\n",
      "Departure  44 at time  94.68765992025665\n",
      "Departure  45 at time  95.17336633716236\n",
      "Arrival  57 at time  96.29786240013667\n",
      "Departure  46 at time  97.54098157737074\n",
      "Departure  47 at time  100.37273425829451\n",
      "Departure  48 at time  104.89719933831971\n",
      "Departure  49 at time  109.0750889663426\n",
      "Departure  50 at time  111.56342458125798\n",
      "Departure  51 at time  112.67987116632149\n",
      "Departure  52 at time  113.3900834199299\n",
      "Departure  53 at time  115.10653368209934\n",
      "Departure  54 at time  116.04699023829365\n",
      "Departure  55 at time  117.56389685902747\n",
      "Departure  56 at time  118.33869888934737\n",
      "Departure  57 at time  119.98007641004972\n",
      "Overtime =  19.98007641004972\n"
     ]
    }
   ],
   "source": [
    "while t < closing_time or n >= 0:\n",
    "        \n",
    "        # case 1 - within business hours, a customer arrives before any customer leaves the queue \n",
    "        if time_arrive <= time_depart and time_arrive <= closing_time:\n",
    "            \n",
    "            t = time_arrive      # move time along to the time of the new arrival\n",
    "            num_arrivals += 1    # increase the number of customers with the additional arrival\n",
    "            n += 1               # we have an additional customer, increase the size of the waiting line by 1 \n",
    "            \n",
    "            # generate time of next arrival\n",
    "            time_arrive = random.expovariate(lambd_in) + t\n",
    "            \n",
    "            #append the new customer to the arrival list\n",
    "            arrivals.append(t)\n",
    "            print(\"Arrival \", num_arrivals, \"at time \", t)\n",
    "            \n",
    "            \n",
    "            # generate time of departure \n",
    "            if n == 1:\n",
    "                Y = random.expovariate(lambd_out)\n",
    "                time_depart = t + Y\n",
    "                \n",
    "            ''' \n",
    "            print('Arrivals', arrivals)\n",
    "            print('Departures', departures)\n",
    "            '''       \n",
    "                  \n",
    "        # case 2 - within business hours, a customer departs before the next arrival\n",
    "        elif time_depart < time_arrive and time_depart <= closing_time:\n",
    "            \n",
    "            # advance time to the next departure time\n",
    "            t = time_depart\n",
    "            \n",
    "            # one more person served -> increase the count of clients who have been served\n",
    "            num_departures += 1\n",
    "            \n",
    "            #update the departure list\n",
    "            departures.append(t)\n",
    "            print(\"Departure \", num_departures, \"at time \", t)\n",
    "            \n",
    "            # one less person in line -> decrease the size of the waiting line\n",
    "            n -= 1\n",
    "            \n",
    "            # if the queue is empt -> set the time of the next departure to infinity\n",
    "            if n == 0:\n",
    "                time_depart = float('inf')\n",
    "                \n",
    "            # if the queue isn't empty, generate the next time of departure\n",
    "            else:\n",
    "                Y = random.expovariate(lambd_out)\n",
    "                time_depart = t + Y\n",
    "            \n",
    "            ''' \n",
    "            print('Arrivals', arrivals)\n",
    "            print('Departures', departures)    \n",
    "            ''' \n",
    "                  \n",
    "        # case 3 - next arrival/departure happens after closing time and there are people still in the queue\n",
    "        elif min(time_arrive, time_depart) > closing_time and n > 0:\n",
    "            \n",
    "            # advance time to next departure\n",
    "            t = time_depart\n",
    "            \n",
    "            #update the departure list\n",
    "            departures.append(t)\n",
    "            \n",
    "            #update the number of departures/clients served\n",
    "            num_departures += 1     # one more person served\n",
    "            \n",
    "            print(\"Departure \", num_departures, \"at time \", t)\n",
    "            \n",
    "            #update the queue\n",
    "            n -= 1    # one less person in the waiting line\n",
    "            \n",
    "            \n",
    "            # if line isn't empty, generate the time of the next departure\n",
    "            if n > 0:\n",
    "                Y = random.expovariate(lambd_out)\n",
    "                time_depart = t + Y\n",
    "            \n",
    "            ''' \n",
    "            print('Arrivals', arrivals)\n",
    "            print('Departures', departures) \n",
    "            ''' \n",
    "            \n",
    "            \n",
    "        # case 4 - next arrival/departure happens after closing time and there is nobody left in the queue\n",
    "        elif min(time_arrive, time_depart) > closing_time and n == 0:\n",
    "            \n",
    "            # calculate overtime\n",
    "            overtime = max(t - closing_time, 0)\n",
    "            print('Overtime = ', overtime)\n",
    "            \n",
    "            '''\n",
    "            print('Arrivals', arrivals)\n",
    "            print('Departures', departures)\n",
    "            '''\n",
    "                      \n",
    "            break"
   ]
  },
  {
   "cell_type": "markdown",
   "metadata": {},
   "source": [
    "## Plot Output of Simulation"
   ]
  },
  {
   "cell_type": "markdown",
   "metadata": {},
   "source": [
    "#### Generate the list of line collections and corresponding colors\n",
    "We first find all binary combination of colors. We then go through both the `arrivals` and `departures` lists that we created above to create a line element for each customer."
   ]
  },
  {
   "cell_type": "code",
   "execution_count": 8,
   "metadata": {},
   "outputs": [],
   "source": [
    "# Get all combination of colors\n",
    "all_colors = list(itertools.product([0, 1], repeat=4))\n",
    "\n",
    "lines = []\n",
    "colors = []\n",
    "color_idx = 0\n",
    "for i in range(len(arrivals)):\n",
    "    if color_idx >= len(all_colors):\n",
    "        color_idx = 0\n",
    "    \n",
    "    line= [(arrivals[i],i),(departures[i],i)]\n",
    "    \n",
    "    lines.append(line)\n",
    "    colors.append(all_colors[color_idx])\n",
    "    color_idx+=1"
   ]
  },
  {
   "cell_type": "markdown",
   "metadata": {},
   "source": [
    "#### Plot results"
   ]
  },
  {
   "cell_type": "code",
   "execution_count": 9,
   "metadata": {},
   "outputs": [
    {
     "data": {
      "text/plain": [
       "Text(0.5,1,'Bank Customer Arrival/Departure Simulation Model')"
      ]
     },
     "execution_count": 9,
     "metadata": {},
     "output_type": "execute_result"
    },
    {
     "data": {
      "image/png": "[encoded data removed]",
      "text/plain": [
       "<matplotlib.figure.Figure at 0xbeb8ba8>"
      ]
     },
     "metadata": {},
     "output_type": "display_data"
    }
   ],
   "source": [
    "lc = mc.LineCollection(lines, colors=colors, linewidths=2)\n",
    "fig, ax = plt.subplots(figsize=(12,10))\n",
    "ax.add_collection(lc)\n",
    "ax.set_xlim((0,departures[-1]+5))\n",
    "ax.set_ylim((-1,len(departures)+1))\n",
    "ax.set_xlabel(\"Time (min)\")\n",
    "ax.set_ylabel(\"Customer Index\")\n",
    "ax.set_title(\"Bank Customer Arrival/Departure Simulation Model\")"
   ]
  },
  {
   "cell_type": "markdown",
   "metadata": {},
   "source": [
    "From here, it is seen that customers that arrive early spend very little time in the bank, and the customers that arrive late spend much longer in the bank. This is per the Poisson distribution defined above. You can manipulate that to change the results of this simulation."
   ]
  }
 ],
 "metadata": {
  "anaconda-cloud": {},
  "kernelspec": {
   "display_name": "Python 3",
   "language": "python",
   "name": "python3"
  },
  "language_info": {
   "codemirror_mode": {
    "name": "ipython",
    "version": 3
   },
   "file_extension": ".py",
   "mimetype": "text/x-python",
   "name": "python",
   "nbconvert_exporter": "python",
   "pygments_lexer": "ipython3",
   "version": "3.6.3"
  },
  "widgets": {
   "state": {},
   "version": "1.1.2"
  }
 },
 "nbformat": 4,
 "nbformat_minor": 2
}
