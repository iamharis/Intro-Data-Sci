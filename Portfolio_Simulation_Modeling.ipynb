{
 "cells": [
  {
   "cell_type": "markdown",
   "metadata": {},
   "source": [
    "# Portfolio Simulation Modeling"
   ]
  },
  {
   "cell_type": "markdown",
   "metadata": {},
   "source": [
    "In this notebook, we model stock portfolios.\n",
    "\n",
    "*Simulation* allows us to *evalute* (approximately) a *function of a random variable*.\n",
    "\n",
    "<u>**Data Used**</u>\n",
    " - <a href=\"#S\">S&P500 Data</a>\n",
    " - <a href=\"#T\">T-Bill Data</a>\n",
    "\n",
    "<u>**Advantages of Simulation**</u>\n",
    " - simulation allows us to evaluate (approximately) a function of a random variable (<a href=\"#E1\">Ex.1</a>)\n",
    " - simulation enables evaluating and visualizing probability distribution resulting from compounding (<a href=\"#E2\">Ex.2</a>)\n",
    " - simulation allows incorporating correlations between input variables (<a href=\"#E3\">Ex.3</a>)\n",
    " - simulation is a low-cost tool for checking the effect of changing a strategy on an output variable of interest (<a href=\"#E4\">Ex.4</a>)"
   ]
  },
  {
   "cell_type": "markdown",
   "metadata": {},
   "source": [
    "#### Import necessary libraries"
   ]
  },
  {
   "cell_type": "code",
   "execution_count": 16,
   "metadata": {},
   "outputs": [],
   "source": [
    "import random\n",
    "import datetime\n",
    "import numpy as np\n",
    "import pandas as pd\n",
    "import matplotlib.pyplot as plt\n",
    "import pandas_datareader as web\n",
    "\n",
    "%matplotlib inline"
   ]
  },
  {
   "cell_type": "markdown",
   "metadata": {},
   "source": [
    "## <a name=\"S\"> Import S&P500 Data</a>"
   ]
  },
  {
   "cell_type": "code",
   "execution_count": 17,
   "metadata": {},
   "outputs": [
    {
     "data": {
      "text/html": [
       "<div>\n",
       "<style>\n",
       "    .dataframe thead tr:only-child th {\n",
       "        text-align: right;\n",
       "    }\n",
       "\n",
       "    .dataframe thead th {\n",
       "        text-align: left;\n",
       "    }\n",
       "\n",
       "    .dataframe tbody tr th {\n",
       "        vertical-align: top;\n",
       "    }\n",
       "</style>\n",
       "<table border=\"1\" class=\"dataframe\">\n",
       "  <thead>\n",
       "    <tr style=\"text-align: right;\">\n",
       "      <th></th>\n",
       "      <th>Date</th>\n",
       "      <th>Open</th>\n",
       "      <th>High</th>\n",
       "      <th>Low</th>\n",
       "      <th>Close</th>\n",
       "      <th>Adj Close</th>\n",
       "      <th>Volume</th>\n",
       "    </tr>\n",
       "    <tr>\n",
       "      <th>Date</th>\n",
       "      <th></th>\n",
       "      <th></th>\n",
       "      <th></th>\n",
       "      <th></th>\n",
       "      <th></th>\n",
       "      <th></th>\n",
       "      <th></th>\n",
       "    </tr>\n",
       "  </thead>\n",
       "  <tbody>\n",
       "    <tr>\n",
       "      <th>1976-01-02</th>\n",
       "      <td>1976-01-02</td>\n",
       "      <td>90.190002</td>\n",
       "      <td>91.180000</td>\n",
       "      <td>89.809998</td>\n",
       "      <td>90.900002</td>\n",
       "      <td>90.900002</td>\n",
       "      <td>10300000</td>\n",
       "    </tr>\n",
       "    <tr>\n",
       "      <th>1976-01-05</th>\n",
       "      <td>1976-01-05</td>\n",
       "      <td>90.900002</td>\n",
       "      <td>92.839996</td>\n",
       "      <td>90.849998</td>\n",
       "      <td>92.580002</td>\n",
       "      <td>92.580002</td>\n",
       "      <td>21960000</td>\n",
       "    </tr>\n",
       "    <tr>\n",
       "      <th>1976-01-06</th>\n",
       "      <td>1976-01-06</td>\n",
       "      <td>92.580002</td>\n",
       "      <td>94.180000</td>\n",
       "      <td>92.370003</td>\n",
       "      <td>93.529999</td>\n",
       "      <td>93.529999</td>\n",
       "      <td>31270000</td>\n",
       "    </tr>\n",
       "    <tr>\n",
       "      <th>1976-01-07</th>\n",
       "      <td>1976-01-07</td>\n",
       "      <td>93.529999</td>\n",
       "      <td>95.150002</td>\n",
       "      <td>92.910004</td>\n",
       "      <td>93.949997</td>\n",
       "      <td>93.949997</td>\n",
       "      <td>33170000</td>\n",
       "    </tr>\n",
       "    <tr>\n",
       "      <th>1976-01-08</th>\n",
       "      <td>1976-01-08</td>\n",
       "      <td>93.949997</td>\n",
       "      <td>95.470001</td>\n",
       "      <td>93.410004</td>\n",
       "      <td>94.580002</td>\n",
       "      <td>94.580002</td>\n",
       "      <td>29030000</td>\n",
       "    </tr>\n",
       "  </tbody>\n",
       "</table>\n",
       "</div>"
      ],
      "text/plain": [
       "                  Date       Open       High        Low      Close  Adj Close  \\\n",
       "Date                                                                            \n",
       "1976-01-02  1976-01-02  90.190002  91.180000  89.809998  90.900002  90.900002   \n",
       "1976-01-05  1976-01-05  90.900002  92.839996  90.849998  92.580002  92.580002   \n",
       "1976-01-06  1976-01-06  92.580002  94.180000  92.370003  93.529999  93.529999   \n",
       "1976-01-07  1976-01-07  93.529999  95.150002  92.910004  93.949997  93.949997   \n",
       "1976-01-08  1976-01-08  93.949997  95.470001  93.410004  94.580002  94.580002   \n",
       "\n",
       "              Volume  \n",
       "Date                  \n",
       "1976-01-02  10300000  \n",
       "1976-01-05  21960000  \n",
       "1976-01-06  31270000  \n",
       "1976-01-07  33170000  \n",
       "1976-01-08  29030000  "
      ]
     },
     "execution_count": 17,
     "metadata": {},
     "output_type": "execute_result"
    }
   ],
   "source": [
    "start_date = datetime.date(1976,1,1)\n",
    "end_date = datetime.date(2017,1,1)\n",
    "# Download S&P 500 index data\n",
    "try:\n",
    "    SnP500DF = web.DataReader('^GSPC','yahoo',start_date,end_date)\n",
    "except:\n",
    "    SnP500DF = pd.read_csv(\"http://analytics.romanko.ca/data/SP500_hist.csv\")\n",
    "    SnP500DF.index = pd.to_datetime(SnP500DF.Date)\n",
    "SnP500DF.head()"
   ]
  },
  {
   "cell_type": "markdown",
   "metadata": {},
   "source": [
    "#### Drop data column"
   ]
  },
  {
   "cell_type": "code",
   "execution_count": 18,
   "metadata": {},
   "outputs": [
    {
     "data": {
      "text/html": [
       "<div>\n",
       "<style>\n",
       "    .dataframe thead tr:only-child th {\n",
       "        text-align: right;\n",
       "    }\n",
       "\n",
       "    .dataframe thead th {\n",
       "        text-align: left;\n",
       "    }\n",
       "\n",
       "    .dataframe tbody tr th {\n",
       "        vertical-align: top;\n",
       "    }\n",
       "</style>\n",
       "<table border=\"1\" class=\"dataframe\">\n",
       "  <thead>\n",
       "    <tr style=\"text-align: right;\">\n",
       "      <th></th>\n",
       "      <th>Open</th>\n",
       "      <th>High</th>\n",
       "      <th>Low</th>\n",
       "      <th>Close</th>\n",
       "      <th>Adj Close</th>\n",
       "      <th>Volume</th>\n",
       "    </tr>\n",
       "    <tr>\n",
       "      <th>Date</th>\n",
       "      <th></th>\n",
       "      <th></th>\n",
       "      <th></th>\n",
       "      <th></th>\n",
       "      <th></th>\n",
       "      <th></th>\n",
       "    </tr>\n",
       "  </thead>\n",
       "  <tbody>\n",
       "    <tr>\n",
       "      <th>1976-01-02</th>\n",
       "      <td>90.190002</td>\n",
       "      <td>91.180000</td>\n",
       "      <td>89.809998</td>\n",
       "      <td>90.900002</td>\n",
       "      <td>90.900002</td>\n",
       "      <td>10300000</td>\n",
       "    </tr>\n",
       "    <tr>\n",
       "      <th>1976-01-05</th>\n",
       "      <td>90.900002</td>\n",
       "      <td>92.839996</td>\n",
       "      <td>90.849998</td>\n",
       "      <td>92.580002</td>\n",
       "      <td>92.580002</td>\n",
       "      <td>21960000</td>\n",
       "    </tr>\n",
       "    <tr>\n",
       "      <th>1976-01-06</th>\n",
       "      <td>92.580002</td>\n",
       "      <td>94.180000</td>\n",
       "      <td>92.370003</td>\n",
       "      <td>93.529999</td>\n",
       "      <td>93.529999</td>\n",
       "      <td>31270000</td>\n",
       "    </tr>\n",
       "    <tr>\n",
       "      <th>1976-01-07</th>\n",
       "      <td>93.529999</td>\n",
       "      <td>95.150002</td>\n",
       "      <td>92.910004</td>\n",
       "      <td>93.949997</td>\n",
       "      <td>93.949997</td>\n",
       "      <td>33170000</td>\n",
       "    </tr>\n",
       "    <tr>\n",
       "      <th>1976-01-08</th>\n",
       "      <td>93.949997</td>\n",
       "      <td>95.470001</td>\n",
       "      <td>93.410004</td>\n",
       "      <td>94.580002</td>\n",
       "      <td>94.580002</td>\n",
       "      <td>29030000</td>\n",
       "    </tr>\n",
       "  </tbody>\n",
       "</table>\n",
       "</div>"
      ],
      "text/plain": [
       "                 Open       High        Low      Close  Adj Close    Volume\n",
       "Date                                                                       \n",
       "1976-01-02  90.190002  91.180000  89.809998  90.900002  90.900002  10300000\n",
       "1976-01-05  90.900002  92.839996  90.849998  92.580002  92.580002  21960000\n",
       "1976-01-06  92.580002  94.180000  92.370003  93.529999  93.529999  31270000\n",
       "1976-01-07  93.529999  95.150002  92.910004  93.949997  93.949997  33170000\n",
       "1976-01-08  93.949997  95.470001  93.410004  94.580002  94.580002  29030000"
      ]
     },
     "execution_count": 18,
     "metadata": {},
     "output_type": "execute_result"
    }
   ],
   "source": [
    "# Drop date column\n",
    "SnP500DF.drop(['Date'],axis=1,inplace=True)\n",
    "\n",
    "SnP500DF.head()"
   ]
  },
  {
   "cell_type": "markdown",
   "metadata": {},
   "source": [
    "#### Function to convert value into float"
   ]
  },
  {
   "cell_type": "code",
   "execution_count": 19,
   "metadata": {},
   "outputs": [],
   "source": [
    "def toFloat(x):\n",
    "    if x == 'null':\n",
    "        return np.nan\n",
    "    return float(x)"
   ]
  },
  {
   "cell_type": "markdown",
   "metadata": {},
   "source": [
    "#### Transform daily data into annual data:"
   ]
  },
  {
   "cell_type": "code",
   "execution_count": 20,
   "metadata": {},
   "outputs": [
    {
     "data": {
      "text/html": [
       "<div>\n",
       "<style>\n",
       "    .dataframe thead tr:only-child th {\n",
       "        text-align: right;\n",
       "    }\n",
       "\n",
       "    .dataframe thead th {\n",
       "        text-align: left;\n",
       "    }\n",
       "\n",
       "    .dataframe tbody tr th {\n",
       "        vertical-align: top;\n",
       "    }\n",
       "</style>\n",
       "<table border=\"1\" class=\"dataframe\">\n",
       "  <thead>\n",
       "    <tr style=\"text-align: right;\">\n",
       "      <th></th>\n",
       "      <th>Open</th>\n",
       "      <th>High</th>\n",
       "      <th>Low</th>\n",
       "      <th>Close</th>\n",
       "      <th>Adj Close</th>\n",
       "      <th>Volume</th>\n",
       "    </tr>\n",
       "    <tr>\n",
       "      <th>Date</th>\n",
       "      <th></th>\n",
       "      <th></th>\n",
       "      <th></th>\n",
       "      <th></th>\n",
       "      <th></th>\n",
       "      <th></th>\n",
       "    </tr>\n",
       "  </thead>\n",
       "  <tbody>\n",
       "    <tr>\n",
       "      <th>2012-12-31</th>\n",
       "      <td>1402.430054</td>\n",
       "      <td>1426.739990</td>\n",
       "      <td>1398.109985</td>\n",
       "      <td>1426.189941</td>\n",
       "      <td>1426.189941</td>\n",
       "      <td>3204330000</td>\n",
       "    </tr>\n",
       "    <tr>\n",
       "      <th>2013-12-31</th>\n",
       "      <td>1842.609985</td>\n",
       "      <td>1849.439941</td>\n",
       "      <td>1842.410034</td>\n",
       "      <td>1848.359985</td>\n",
       "      <td>1848.359985</td>\n",
       "      <td>2312840000</td>\n",
       "    </tr>\n",
       "    <tr>\n",
       "      <th>2014-12-31</th>\n",
       "      <td>2082.110107</td>\n",
       "      <td>2085.580078</td>\n",
       "      <td>2057.939941</td>\n",
       "      <td>2058.899902</td>\n",
       "      <td>2058.899902</td>\n",
       "      <td>2606070000</td>\n",
       "    </tr>\n",
       "    <tr>\n",
       "      <th>2015-12-31</th>\n",
       "      <td>2060.590088</td>\n",
       "      <td>2062.540039</td>\n",
       "      <td>2043.619995</td>\n",
       "      <td>2043.939941</td>\n",
       "      <td>2043.939941</td>\n",
       "      <td>2655330000</td>\n",
       "    </tr>\n",
       "    <tr>\n",
       "      <th>2016-12-31</th>\n",
       "      <td>2251.610107</td>\n",
       "      <td>2253.580078</td>\n",
       "      <td>2233.620117</td>\n",
       "      <td>2238.830078</td>\n",
       "      <td>2238.830078</td>\n",
       "      <td>2670900000</td>\n",
       "    </tr>\n",
       "  </tbody>\n",
       "</table>\n",
       "</div>"
      ],
      "text/plain": [
       "                   Open         High          Low        Close    Adj Close  \\\n",
       "Date                                                                          \n",
       "2012-12-31  1402.430054  1426.739990  1398.109985  1426.189941  1426.189941   \n",
       "2013-12-31  1842.609985  1849.439941  1842.410034  1848.359985  1848.359985   \n",
       "2014-12-31  2082.110107  2085.580078  2057.939941  2058.899902  2058.899902   \n",
       "2015-12-31  2060.590088  2062.540039  2043.619995  2043.939941  2043.939941   \n",
       "2016-12-31  2251.610107  2253.580078  2233.620117  2238.830078  2238.830078   \n",
       "\n",
       "                Volume  \n",
       "Date                    \n",
       "2012-12-31  3204330000  \n",
       "2013-12-31  2312840000  \n",
       "2014-12-31  2606070000  \n",
       "2015-12-31  2655330000  \n",
       "2016-12-31  2670900000  "
      ]
     },
     "execution_count": 20,
     "metadata": {},
     "output_type": "execute_result"
    }
   ],
   "source": [
    "# Create a time-series of annual data points from daily data\n",
    "SnP500DF = SnP500DF.resample('A').last()\n",
    "SnP500DF.tail()"
   ]
  },
  {
   "cell_type": "markdown",
   "metadata": {},
   "source": [
    "#### Compute annual return of S&P 500 index:"
   ]
  },
  {
   "cell_type": "code",
   "execution_count": 21,
   "metadata": {
    "scrolled": true
   },
   "outputs": [
    {
     "data": {
      "text/html": [
       "<div>\n",
       "<style>\n",
       "    .dataframe thead tr:only-child th {\n",
       "        text-align: right;\n",
       "    }\n",
       "\n",
       "    .dataframe thead th {\n",
       "        text-align: left;\n",
       "    }\n",
       "\n",
       "    .dataframe tbody tr th {\n",
       "        vertical-align: top;\n",
       "    }\n",
       "</style>\n",
       "<table border=\"1\" class=\"dataframe\">\n",
       "  <thead>\n",
       "    <tr style=\"text-align: right;\">\n",
       "      <th></th>\n",
       "      <th>Open</th>\n",
       "      <th>High</th>\n",
       "      <th>Low</th>\n",
       "      <th>Close</th>\n",
       "      <th>Adj Close</th>\n",
       "      <th>Volume</th>\n",
       "      <th>Returns</th>\n",
       "    </tr>\n",
       "    <tr>\n",
       "      <th>Date</th>\n",
       "      <th></th>\n",
       "      <th></th>\n",
       "      <th></th>\n",
       "      <th></th>\n",
       "      <th></th>\n",
       "      <th></th>\n",
       "      <th></th>\n",
       "    </tr>\n",
       "  </thead>\n",
       "  <tbody>\n",
       "    <tr>\n",
       "      <th>1977-12-31</th>\n",
       "      <td>94.940002</td>\n",
       "      <td>95.669998</td>\n",
       "      <td>94.440002</td>\n",
       "      <td>95.099998</td>\n",
       "      <td>95.099998</td>\n",
       "      <td>23560000</td>\n",
       "      <td>-0.115020</td>\n",
       "    </tr>\n",
       "    <tr>\n",
       "      <th>1978-12-31</th>\n",
       "      <td>96.279999</td>\n",
       "      <td>97.029999</td>\n",
       "      <td>95.480003</td>\n",
       "      <td>96.110001</td>\n",
       "      <td>96.110001</td>\n",
       "      <td>30030000</td>\n",
       "      <td>0.010620</td>\n",
       "    </tr>\n",
       "    <tr>\n",
       "      <th>1979-12-31</th>\n",
       "      <td>107.839996</td>\n",
       "      <td>108.529999</td>\n",
       "      <td>107.260002</td>\n",
       "      <td>107.940002</td>\n",
       "      <td>107.940002</td>\n",
       "      <td>31530000</td>\n",
       "      <td>0.123088</td>\n",
       "    </tr>\n",
       "    <tr>\n",
       "      <th>1980-12-31</th>\n",
       "      <td>135.330002</td>\n",
       "      <td>136.759995</td>\n",
       "      <td>134.289993</td>\n",
       "      <td>135.759995</td>\n",
       "      <td>135.759995</td>\n",
       "      <td>41210000</td>\n",
       "      <td>0.257736</td>\n",
       "    </tr>\n",
       "    <tr>\n",
       "      <th>1981-12-31</th>\n",
       "      <td>122.300003</td>\n",
       "      <td>123.419998</td>\n",
       "      <td>121.570000</td>\n",
       "      <td>122.550003</td>\n",
       "      <td>122.550003</td>\n",
       "      <td>40780000</td>\n",
       "      <td>-0.097304</td>\n",
       "    </tr>\n",
       "  </tbody>\n",
       "</table>\n",
       "</div>"
      ],
      "text/plain": [
       "                  Open        High         Low       Close   Adj Close  \\\n",
       "Date                                                                     \n",
       "1977-12-31   94.940002   95.669998   94.440002   95.099998   95.099998   \n",
       "1978-12-31   96.279999   97.029999   95.480003   96.110001   96.110001   \n",
       "1979-12-31  107.839996  108.529999  107.260002  107.940002  107.940002   \n",
       "1980-12-31  135.330002  136.759995  134.289993  135.759995  135.759995   \n",
       "1981-12-31  122.300003  123.419998  121.570000  122.550003  122.550003   \n",
       "\n",
       "              Volume   Returns  \n",
       "Date                            \n",
       "1977-12-31  23560000 -0.115020  \n",
       "1978-12-31  30030000  0.010620  \n",
       "1979-12-31  31530000  0.123088  \n",
       "1980-12-31  41210000  0.257736  \n",
       "1981-12-31  40780000 -0.097304  "
      ]
     },
     "execution_count": 21,
     "metadata": {},
     "output_type": "execute_result"
    }
   ],
   "source": [
    "# Convert column to float\n",
    "SnP500DF['Adj Close'] = SnP500DF['Adj Close'].apply(toFloat)\n",
    "\n",
    "# Compute return (divide by previous years and subtract 1)\n",
    "SnP500DF['Returns'] = SnP500DF['Adj Close'] / SnP500DF['Adj Close'].shift(1) - 1\n",
    "\n",
    "# Drop null data\n",
    "SnP500DF = SnP500DF.dropna()\n",
    "\n",
    "SnP500DF.head()"
   ]
  },
  {
   "cell_type": "markdown",
   "metadata": {},
   "source": [
    "#### Compute average annual return and standard deviation of return for S&P 500 index:"
   ]
  },
  {
   "cell_type": "code",
   "execution_count": 22,
   "metadata": {},
   "outputs": [
    {
     "name": "stdout",
     "output_type": "stream",
     "text": [
      "S&P 500 Average Return: 9.13% (St. Dev: 16%)\n"
     ]
    }
   ],
   "source": [
    "SnP500_mean_rtn = SnP500DF['Returns'].mean()\n",
    "SnP500_std_rtn = SnP500DF['Returns'].std()\n",
    "\n",
    "print (\"S&P 500 Average Return: {}% (St. Dev: {}%)\".format(\n",
    "                                                        round(100*SnP500_mean_rtn,2),\n",
    "                                                        round(100*SnP500_std_rtn),2))"
   ]
  },
  {
   "cell_type": "markdown",
   "metadata": {},
   "source": [
    "## <a name=\"T\">Import T-Bill Data</a>"
   ]
  },
  {
   "cell_type": "markdown",
   "metadata": {},
   "source": [
    "#### Download US Treasury bill data from Federal Reserve:"
   ]
  },
  {
   "cell_type": "code",
   "execution_count": 23,
   "metadata": {},
   "outputs": [
    {
     "data": {
      "text/html": [
       "<div>\n",
       "<style>\n",
       "    .dataframe thead tr:only-child th {\n",
       "        text-align: right;\n",
       "    }\n",
       "\n",
       "    .dataframe thead th {\n",
       "        text-align: left;\n",
       "    }\n",
       "\n",
       "    .dataframe tbody tr th {\n",
       "        vertical-align: top;\n",
       "    }\n",
       "</style>\n",
       "<table border=\"1\" class=\"dataframe\">\n",
       "  <thead>\n",
       "    <tr style=\"text-align: right;\">\n",
       "      <th></th>\n",
       "      <th>DTB3</th>\n",
       "    </tr>\n",
       "    <tr>\n",
       "      <th>DATE</th>\n",
       "      <th></th>\n",
       "    </tr>\n",
       "  </thead>\n",
       "  <tbody>\n",
       "    <tr>\n",
       "      <th>1977-01-03</th>\n",
       "      <td>4.39</td>\n",
       "    </tr>\n",
       "    <tr>\n",
       "      <th>1977-01-04</th>\n",
       "      <td>4.49</td>\n",
       "    </tr>\n",
       "    <tr>\n",
       "      <th>1977-01-05</th>\n",
       "      <td>4.47</td>\n",
       "    </tr>\n",
       "    <tr>\n",
       "      <th>1977-01-06</th>\n",
       "      <td>4.50</td>\n",
       "    </tr>\n",
       "    <tr>\n",
       "      <th>1977-01-07</th>\n",
       "      <td>4.62</td>\n",
       "    </tr>\n",
       "  </tbody>\n",
       "</table>\n",
       "</div>"
      ],
      "text/plain": [
       "            DTB3\n",
       "DATE            \n",
       "1977-01-03  4.39\n",
       "1977-01-04  4.49\n",
       "1977-01-05  4.47\n",
       "1977-01-06  4.50\n",
       "1977-01-07  4.62"
      ]
     },
     "execution_count": 23,
     "metadata": {},
     "output_type": "execute_result"
    }
   ],
   "source": [
    "startDate = datetime.date(1977,1,1)\n",
    "endDate = datetime.date(2017,1,1)\n",
    "\n",
    "TBillDF = web.DataReader('DTB3','fred',startDate,endDate)\n",
    "TBillDF.head()"
   ]
  },
  {
   "cell_type": "code",
   "execution_count": 24,
   "metadata": {},
   "outputs": [],
   "source": [
    "#### Transform daily data into annual data:"
   ]
  },
  {
   "cell_type": "code",
   "execution_count": 25,
   "metadata": {},
   "outputs": [
    {
     "data": {
      "text/html": [
       "<div>\n",
       "<style>\n",
       "    .dataframe thead tr:only-child th {\n",
       "        text-align: right;\n",
       "    }\n",
       "\n",
       "    .dataframe thead th {\n",
       "        text-align: left;\n",
       "    }\n",
       "\n",
       "    .dataframe tbody tr th {\n",
       "        vertical-align: top;\n",
       "    }\n",
       "</style>\n",
       "<table border=\"1\" class=\"dataframe\">\n",
       "  <thead>\n",
       "    <tr style=\"text-align: right;\">\n",
       "      <th></th>\n",
       "      <th>DTB3</th>\n",
       "    </tr>\n",
       "    <tr>\n",
       "      <th>DATE</th>\n",
       "      <th></th>\n",
       "    </tr>\n",
       "  </thead>\n",
       "  <tbody>\n",
       "    <tr>\n",
       "      <th>1977-12-31</th>\n",
       "      <td>6.13</td>\n",
       "    </tr>\n",
       "    <tr>\n",
       "      <th>1978-12-31</th>\n",
       "      <td>9.26</td>\n",
       "    </tr>\n",
       "    <tr>\n",
       "      <th>1979-12-31</th>\n",
       "      <td>12.04</td>\n",
       "    </tr>\n",
       "    <tr>\n",
       "      <th>1980-12-31</th>\n",
       "      <td>14.30</td>\n",
       "    </tr>\n",
       "    <tr>\n",
       "      <th>1981-12-31</th>\n",
       "      <td>11.08</td>\n",
       "    </tr>\n",
       "  </tbody>\n",
       "</table>\n",
       "</div>"
      ],
      "text/plain": [
       "             DTB3\n",
       "DATE             \n",
       "1977-12-31   6.13\n",
       "1978-12-31   9.26\n",
       "1979-12-31  12.04\n",
       "1980-12-31  14.30\n",
       "1981-12-31  11.08"
      ]
     },
     "execution_count": 25,
     "metadata": {},
     "output_type": "execute_result"
    }
   ],
   "source": [
    "TBillDF = TBillDF.resample('A').last()\n",
    "TBillDF.head()"
   ]
  },
  {
   "cell_type": "markdown",
   "metadata": {},
   "source": [
    "#### Compute annual return of T-Bills:"
   ]
  },
  {
   "cell_type": "code",
   "execution_count": 26,
   "metadata": {},
   "outputs": [
    {
     "data": {
      "text/html": [
       "<div>\n",
       "<style>\n",
       "    .dataframe thead tr:only-child th {\n",
       "        text-align: right;\n",
       "    }\n",
       "\n",
       "    .dataframe thead th {\n",
       "        text-align: left;\n",
       "    }\n",
       "\n",
       "    .dataframe tbody tr th {\n",
       "        vertical-align: top;\n",
       "    }\n",
       "</style>\n",
       "<table border=\"1\" class=\"dataframe\">\n",
       "  <thead>\n",
       "    <tr style=\"text-align: right;\">\n",
       "      <th></th>\n",
       "      <th>DTB3</th>\n",
       "      <th>Returns</th>\n",
       "    </tr>\n",
       "    <tr>\n",
       "      <th>DATE</th>\n",
       "      <th></th>\n",
       "      <th></th>\n",
       "    </tr>\n",
       "  </thead>\n",
       "  <tbody>\n",
       "    <tr>\n",
       "      <th>1977-12-31</th>\n",
       "      <td>6.13</td>\n",
       "      <td>0.0613</td>\n",
       "    </tr>\n",
       "    <tr>\n",
       "      <th>1978-12-31</th>\n",
       "      <td>9.26</td>\n",
       "      <td>0.0926</td>\n",
       "    </tr>\n",
       "    <tr>\n",
       "      <th>1979-12-31</th>\n",
       "      <td>12.04</td>\n",
       "      <td>0.1204</td>\n",
       "    </tr>\n",
       "    <tr>\n",
       "      <th>1980-12-31</th>\n",
       "      <td>14.30</td>\n",
       "      <td>0.1430</td>\n",
       "    </tr>\n",
       "    <tr>\n",
       "      <th>1981-12-31</th>\n",
       "      <td>11.08</td>\n",
       "      <td>0.1108</td>\n",
       "    </tr>\n",
       "  </tbody>\n",
       "</table>\n",
       "</div>"
      ],
      "text/plain": [
       "             DTB3  Returns\n",
       "DATE                      \n",
       "1977-12-31   6.13   0.0613\n",
       "1978-12-31   9.26   0.0926\n",
       "1979-12-31  12.04   0.1204\n",
       "1980-12-31  14.30   0.1430\n",
       "1981-12-31  11.08   0.1108"
      ]
     },
     "execution_count": 26,
     "metadata": {},
     "output_type": "execute_result"
    }
   ],
   "source": [
    "TBillDF['Returns'] = TBillDF['DTB3'] / 100\n",
    "\n",
    "# Drop null data\n",
    "TBillDF = TBillDF.dropna()\n",
    "\n",
    "TBillDF.head()"
   ]
  },
  {
   "cell_type": "markdown",
   "metadata": {},
   "source": [
    "#### Compute average annual return and standard deviation of return for T-Bills:"
   ]
  },
  {
   "cell_type": "code",
   "execution_count": 27,
   "metadata": {},
   "outputs": [
    {
     "name": "stdout",
     "output_type": "stream",
     "text": [
      "TBill Average Return: 4.58% (St. Dev: 4%)\n"
     ]
    }
   ],
   "source": [
    "TBill_mean_rtn = TBillDF['Returns'].mean()\n",
    "TBill_std_rtn = TBillDF['Returns'].std()\n",
    "\n",
    "print (\"TBill Average Return: {}% (St. Dev: {}%)\".format(\n",
    "                                                        round(100*TBill_mean_rtn,2),\n",
    "                                                        round(100*TBill_std_rtn),2))"
   ]
  },
  {
   "cell_type": "markdown",
   "metadata": {},
   "source": [
    "## <a name=\"E1\">Simulation Example 1</a>"
   ]
  },
  {
   "cell_type": "markdown",
   "metadata": {},
   "source": [
    "We want to invest \\$1000 in the US stock market for 1 year. We chose to invest in the S&P500 market index.\n",
    "\n",
    "Our initial capital is: $v_0 = 1000$\n",
    "\n",
    "The value of our investment at the end of year 1 is $v_1$.\n",
    "\n",
    "The market return over this time period $[0,1)$ is $r_{0,1}$\n",
    "\n",
    "We can compute $v_1$ with the following formula:\n",
    "    $v_1 = v_0 + r_{0,1} \\cdot v_0 = (1+r_{0,1})v_0$\n",
    "    \n",
    "This example illustrates a *very basic Monte Carlo simulation system* where we can use simulation to evaluate (approximately) a function of a random variable ($v_1$)."
   ]
  },
  {
   "cell_type": "code",
   "execution_count": 28,
   "metadata": {},
   "outputs": [],
   "source": [
    "v0 = 1000 # Initial capital"
   ]
  },
  {
   "cell_type": "markdown",
   "metadata": {},
   "source": [
    "We then simulate our return over several years using the **Monte Carlo** method. We assume that the return of the market over the next year follow Normal distribution.\n",
    "\n",
    "Between 1977 and 2016, S&P 500 returned 9.13% per year on average with a standard deviation of 16.0%.\n",
    "\n",
    "Generate 100 scenarios for the market return over the next year (draw 100 random numbers from a Normal distribution with mean 9.13% and standard deviation of 16.0%):"
   ]
  },
  {
   "cell_type": "markdown",
   "metadata": {},
   "source": [
    "### Predict Returns with Monte Carlo"
   ]
  },
  {
   "cell_type": "code",
   "execution_count": 29,
   "metadata": {},
   "outputs": [],
   "source": [
    "Ns = 100 # Number of scenarios\n",
    "r01 = np.random.normal(SnP500_mean_rtn, SnP500_std_rtn, Ns)"
   ]
  },
  {
   "cell_type": "markdown",
   "metadata": {},
   "source": [
    "### Calculate Potential Value of Investment After 1 Year"
   ]
  },
  {
   "cell_type": "markdown",
   "metadata": {},
   "source": [
    "Now we can calculate potential values of our investment after 1 year using: \n",
    "    $v_1 = v_0 + r_{0,1}\\cdot v_0 = (1 + r_{0,1})\\cdot v_0$.\n",
    "    \n",
    "Given the distribution of $r_{0,1}$, in some cases we can compute the distribution of $v_1$ in closed form. In this case, since $r_{0,1}$ followed a Normal distribution, $v_1$ will also follow a normal distribution with mean $(1+\\mu_{0,1})v_0$ and standard deviation $\\sigma_{0,1}v_0$"
   ]
  },
  {
   "cell_type": "code",
   "execution_count": 30,
   "metadata": {},
   "outputs": [],
   "source": [
    "# Distribution of value at the end of year 1\n",
    "v1 = (r01 + 1) * v0"
   ]
  },
  {
   "cell_type": "markdown",
   "metadata": {},
   "source": [
    "### Analyze Simulation"
   ]
  },
  {
   "cell_type": "markdown",
   "metadata": {},
   "source": [
    "#### Statistics"
   ]
  },
  {
   "cell_type": "markdown",
   "metadata": {},
   "source": [
    "We can compute statistic information regarding the potential value of our investment:"
   ]
  },
  {
   "cell_type": "code",
   "execution_count": 31,
   "metadata": {},
   "outputs": [
    {
     "name": "stdout",
     "output_type": "stream",
     "text": [
      "Mean: 1066.03767571\n",
      "Std. Dev: 143.738350918\n",
      "Min: 722.985070835\n",
      "Max: 1441.77158658\n",
      "5th Percentile: 861.95089244\n",
      "Median: 1245.4626364\n",
      "95th Percentile: 1303.54973441\n"
     ]
    }
   ],
   "source": [
    "print (\"Mean:\",np.mean(v1))\n",
    "print (\"Std. Dev:\",np.std(v1))\n",
    "print (\"Min:\",np.min(v1))\n",
    "print (\"Max:\",np.max(v1))\n",
    "\n",
    "#Percentiles:\n",
    "percentiles = np.percentile(v1, [5,90,95])\n",
    "print (\"5th Percentile:\",percentiles[0])\n",
    "print (\"Median:\",percentiles[1])\n",
    "print (\"95th Percentile:\",percentiles[2])"
   ]
  },
  {
   "cell_type": "markdown",
   "metadata": {},
   "source": [
    "#### Plot histogram\n",
    "Plot a histogram of the distribution of outcomes for v1:"
   ]
  },
  {
   "cell_type": "code",
   "execution_count": 32,
   "metadata": {
    "scrolled": true
   },
   "outputs": [
    {
     "data": {
      "text/plain": [
       "Text(0.5,1,'v_1 Histogram')"
      ]
     },
     "execution_count": 32,
     "metadata": {},
     "output_type": "execute_result"
    },
    {
     "data": {
      "image/png": "[encoded data removed]",
      "text/plain": [
       "<matplotlib.figure.Figure at 0xb67e128>"
      ]
     },
     "metadata": {},
     "output_type": "display_data"
    }
   ],
   "source": [
    "hist, bins = np.histogram(v1)\n",
    "positions = (bins[:-1] + bins[1:]) / 2\n",
    "plt.bar(positions, hist, width=60)\n",
    "plt.xlabel('Portfolio Value After 1 Year')\n",
    "plt.ylabel('Frequency')\n",
    "plt.title('v_1 Histogram')"
   ]
  },
  {
   "cell_type": "markdown",
   "metadata": {},
   "source": [
    "#### Plot simulated value paths\n",
    "\n",
    "Simulated paths over time:"
   ]
  },
  {
   "cell_type": "code",
   "execution_count": 33,
   "metadata": {},
   "outputs": [
    {
     "data": {
      "text/plain": [
       "Text(0.5,1,'Simulated Value Paths')"
      ]
     },
     "execution_count": 33,
     "metadata": {},
     "output_type": "execute_result"
    },
    {
     "data": {
      "image/png": "[encoded data removed]",
      "text/plain": [
       "<matplotlib.figure.Figure at 0xcb85b70>"
      ]
     },
     "metadata": {},
     "output_type": "display_data"
    }
   ],
   "source": [
    "# Plot simulated paths over time\n",
    "for res in v1:\n",
    "    plt.plot((0,1), (v0, res))\n",
    "plt.xlabel('Time Step')\n",
    "plt.ylabel('Portfolio Value')\n",
    "plt.title(\"Simulated Value Paths\")"
   ]
  },
  {
   "cell_type": "markdown",
   "metadata": {},
   "source": [
    "In this example, we evaluated the $v_1$ equation using simulation. This equation would have been much harder to simulate if $r_{0,1}$ did not follow a normal distribution, or if the output variable $v_1$ were a more complex function of the input variable $r_{0,1}$."
   ]
  },
  {
   "cell_type": "markdown",
   "metadata": {
    "collapsed": true
   },
   "source": [
    "## <a name=\"E2\">Simulation Example 2</a>"
   ]
  },
  {
   "cell_type": "markdown",
   "metadata": {
    "collapsed": true
   },
   "source": [
    "We want to invest \\$1000 in the US stock market for the next 30 years. We chose to invest in the S&P500 market index.\n",
    "\n",
    "We still assume that every year your investment returns from investing into the S&P500 will follow a Normal distribution with the mean and standard deviation presented in Ex.1.\n",
    "\n",
    "Our initial capital is : $v_0 = 1000$\n",
    "\n",
    "The value of our investment at the end of year 30 is $v_{30}$.\n",
    "\n",
    "The market return over 30 years will depend on the realization of 30 random variables:\n",
    "\n",
    " $v_{30} = (1+r_{0,1})\\cdot(1+r_{1,2})\\cdot...\\cdot (1+r_{29,30}) v_0$\n",
    "\n",
    "The market return over this time period $[0,t)$ is $r_{0,t} = (1+r_{0,1})\\cdot(1+r_{1,2})\\cdot...\\cdot (1+r_{t-1,t}) - 1$\n",
    "\n",
    "We can compute $v_{0,t}$ with the following formula:\n",
    "    $v_{0,t} = (1+r_{t-1,t})v_0$\n",
    "    \n",
    "This example illustrates how we can use simulation to visualize probability distributions resulting from compounding probability distributions of multiple input variables."
   ]
  },
  {
   "cell_type": "code",
   "execution_count": 34,
   "metadata": {},
   "outputs": [],
   "source": [
    "v0 = 1000 # Initial capital"
   ]
  },
  {
   "cell_type": "markdown",
   "metadata": {},
   "source": [
    "### Predict Returns with Monte Carlo"
   ]
  },
  {
   "cell_type": "markdown",
   "metadata": {},
   "source": [
    "Between 1977 and 2016, S&P 500 returned 9.13% per year on average with a standard deviation of 16.0%.\n",
    "Simulate 30 columns of 100 observations each of single period returns:"
   ]
  },
  {
   "cell_type": "code",
   "execution_count": 35,
   "metadata": {},
   "outputs": [],
   "source": [
    "r_speriod30  = np.random.normal(SnP500_mean_rtn, SnP500_std_rtn, (Ns, 30))"
   ]
  },
  {
   "cell_type": "markdown",
   "metadata": {},
   "source": [
    "### Calculate Potential Value of Investment After 30 Years"
   ]
  },
  {
   "cell_type": "code",
   "execution_count": 36,
   "metadata": {},
   "outputs": [],
   "source": [
    "v30 = np.prod(1 + r_speriod30 , 1) * v0"
   ]
  },
  {
   "cell_type": "markdown",
   "metadata": {},
   "source": [
    "### Analyze Simulation\n",
    "#### Plot histogram"
   ]
  },
  {
   "cell_type": "code",
   "execution_count": 37,
   "metadata": {},
   "outputs": [
    {
     "data": {
      "image/png": "[encoded data removed]",
      "text/plain": [
       "<matplotlib.figure.Figure at 0xc2b9400>"
      ]
     },
     "metadata": {},
     "output_type": "display_data"
    }
   ],
   "source": [
    "hist, bins = np.histogram(v30)\n",
    "positions = (bins[:-1] + bins[1:]) / 2\n",
    "width = (bins[1] - bins[0]) * 0.8\n",
    "plt.bar(positions, hist, width=width)\n",
    "plt.xlabel('Portfolio Value After 1 Year')\n",
    "plt.ylabel('Frequency')\n",
    "plt.title('v_30 Histogram')\n",
    "plt.show()"
   ]
  },
  {
   "cell_type": "markdown",
   "metadata": {},
   "source": [
    "#### Plot simulated value paths\n",
    "\n",
    "Simulated paths over time:"
   ]
  },
  {
   "cell_type": "code",
   "execution_count": 38,
   "metadata": {},
   "outputs": [
    {
     "data": {
      "image/png": "[encoded data removed]",
      "text/plain": [
       "<matplotlib.figure.Figure at 0xc2acba8>"
      ]
     },
     "metadata": {},
     "output_type": "display_data"
    }
   ],
   "source": [
    "for scenario in r_speriod30:\n",
    "    y = [np.prod(1 + scenario[0:i]) * v0 for i in range(0,31)]\n",
    "    plt.plot(range(0,31), y)\n",
    "plt.xlabel('Time Step')\n",
    "plt.ylabel('Portfolio Value')\n",
    "plt.title(\"Simulated Value Paths\")\n",
    "plt.show()"
   ]
  },
  {
   "cell_type": "markdown",
   "metadata": {},
   "source": [
    "## <a name=\"E3\">Simulation Example 3</a>\n",
    "\n",
    "We are planning for *retirement* and decide to *invest in the market* for the next *30 years*.\n",
    "\n",
    "Our initial capital is : $v_0 = 1000$\n",
    "\n",
    "We have the opportunity to invest in *stocks* and *Treasury bonds*:\n",
    " - allocate 50% of our capital to the stock market (S&P 500 index fund) today\n",
    " - allocate 50% of our capital to bonds today\n",
    " \n",
    "We assume that our investment returns from investing in the S&P500 and Treasury bonds will follow a Normal distribution with the mean and standard deviations shown above. We also assume a correlation of $-0.2$ between the stock market and the Treasury bond market.\n",
    "\n",
    "The value of our investment at the end of year 30 is $v_{30}$.\n",
    "    \n",
    "This example illustrates how we can use simulation to incorporate correlations between input variables."
   ]
  },
  {
   "cell_type": "markdown",
   "metadata": {},
   "source": [
    "### Compute Covariance Matrix:"
   ]
  },
  {
   "cell_type": "code",
   "execution_count": 39,
   "metadata": {},
   "outputs": [
    {
     "data": {
      "text/plain": [
       "array([[ 0.024987  ,  0.00080272],\n",
       "       [ 0.00080272,  0.00133127]])"
      ]
     },
     "execution_count": 39,
     "metadata": {},
     "output_type": "execute_result"
    }
   ],
   "source": [
    "covMat = np.cov(np.array(SnP500DF['Returns']),np.array(TBillDF['Returns']),rowvar=0)\n",
    "covMat"
   ]
  },
  {
   "cell_type": "markdown",
   "metadata": {},
   "source": [
    "### Predict Returns with Monte Carlo"
   ]
  },
  {
   "cell_type": "code",
   "execution_count": 40,
   "metadata": {
    "scrolled": true
   },
   "outputs": [],
   "source": [
    "v0 = 1000 # Initial capital\n",
    "Ns = 5000 # Number of scenarios"
   ]
  },
  {
   "cell_type": "code",
   "execution_count": 41,
   "metadata": {},
   "outputs": [
    {
     "data": {
      "text/plain": [
       "[0.09130311413356888, 0.04584499999999999]"
      ]
     },
     "execution_count": 41,
     "metadata": {},
     "output_type": "execute_result"
    }
   ],
   "source": [
    "mu = [SnP500_mean_rtn, TBill_mean_rtn] # Expected return\n",
    "mu"
   ]
  },
  {
   "cell_type": "code",
   "execution_count": 42,
   "metadata": {},
   "outputs": [],
   "source": [
    "stockRet = np.ones(Ns)\n",
    "bondsRet = np.ones(Ns)"
   ]
  },
  {
   "cell_type": "code",
   "execution_count": 43,
   "metadata": {},
   "outputs": [],
   "source": [
    "scenarios = np.random.multivariate_normal(mu, covMat, Ns)\n",
    "for year in range(1, 31):\n",
    "    scenarios = np.random.multivariate_normal(mu, covMat, Ns)\n",
    "    stockRet *= (1 + scenarios[:,0])\n",
    "    bondsRet *= (1 + scenarios[:,1])"
   ]
  },
  {
   "cell_type": "markdown",
   "metadata": {},
   "source": [
    "### Calculate Potential Value of Investment After 30 Years"
   ]
  },
  {
   "cell_type": "code",
   "execution_count": 44,
   "metadata": {},
   "outputs": [],
   "source": [
    "v30 = 0.5 * v0 * stockRet + 0.5 * v0 * bondsRet"
   ]
  },
  {
   "cell_type": "markdown",
   "metadata": {},
   "source": [
    "### Analyze Simulation\n",
    "#### Plot histogram"
   ]
  },
  {
   "cell_type": "code",
   "execution_count": 45,
   "metadata": {},
   "outputs": [
    {
     "data": {
      "text/plain": [
       "Text(0,0.5,'frequency')"
      ]
     },
     "execution_count": 45,
     "metadata": {},
     "output_type": "execute_result"
    },
    {
     "data": {
      "image/png": "[encoded data removed]",
      "text/plain": [
       "<matplotlib.figure.Figure at 0xbb27b00>"
      ]
     },
     "metadata": {},
     "output_type": "display_data"
    }
   ],
   "source": [
    "hist, bins = np.histogram(v30, bins = 100)\n",
    "positions = (bins[:-1] + bins[1:]) / 2\n",
    "width = (bins[1] - bins[0]) * 0.8\n",
    "plt.bar(positions, hist, width=width)\n",
    "plt.xlabel('portfolio value after 30 years')\n",
    "plt.ylabel('frequency')"
   ]
  },
  {
   "cell_type": "markdown",
   "metadata": {
    "collapsed": true
   },
   "source": [
    "## <a name=\"E4\">Simulation Example 4</a>\n",
    "\n",
    "We use the scenario generation procedure from <a href=\"#E3\">Ex. 3</a> to compare 2 portfolios:\n",
    " - *Strategy A*: 50-50 portfolio allocation in stocks and bonds\n",
    " - *Strategy B*: 30-70 portfolio allocation in stocks and bonds\n",
    " \n",
    "Our initial capital is : $v_0 = 1000$\n",
    "\n",
    "We want to compute and plot:\n",
    "$v_{30} = w_s v_0(1 + r^s_{0,30}) + w_b v_0(1 + r^b_{0,30})$\n",
    "\n",
    "We still assume that our investment returns from investing in the S&P500 and Treasury bonds will follow a Normal distribution with the mean and standard deviations shown above. We also assume a correlation of $-0.2$ between the stock market and the Treasury bond market.\n",
    "\n",
    "The value of our investment at the end of year 30 is $v_{30}$.\n",
    "    \n",
    "This example illustrates how we can use simulation for checking the effect of changing a strategy on an output variable of interest."
   ]
  },
  {
   "cell_type": "markdown",
   "metadata": {},
   "source": [
    "### Compute Potential Portfolios\n",
    "Compute portfolios by iterating through different combinations of weights"
   ]
  },
  {
   "cell_type": "code",
   "execution_count": 46,
   "metadata": {},
   "outputs": [],
   "source": [
    "v30comp = []\n",
    "for w in np.arange(0.2, 1.01, 0.2):\n",
    "    v30comp += [w * v0 * stockRet + (1 - w) * v0 * bondsRet]"
   ]
  },
  {
   "cell_type": "markdown",
   "metadata": {},
   "source": [
    "### Visualize histogram\n",
    "Plot a histogram of the distribution of differences in outcomes for $v_{30}$ \n",
    "\n",
    "E.g. (Strategy 4 - Strategy 2)"
   ]
  },
  {
   "cell_type": "code",
   "execution_count": 47,
   "metadata": {},
   "outputs": [],
   "source": [
    "v30d = v30comp[3] - v30comp[1]"
   ]
  },
  {
   "cell_type": "code",
   "execution_count": 48,
   "metadata": {},
   "outputs": [
    {
     "data": {
      "image/png": "[encoded data removed]",
      "text/plain": [
       "<matplotlib.figure.Figure at 0xbbbb898>"
      ]
     },
     "metadata": {},
     "output_type": "display_data"
    }
   ],
   "source": [
    "hist, bins = np.histogram(v30d, bins = 50)\n",
    "positions = (bins[:-1] + bins[1:]) / 2\n",
    "width = (bins[1] - bins[0]) * 0.8\n",
    "plt.bar(positions, hist, width=width)\n",
    "plt.show()"
   ]
  },
  {
   "cell_type": "markdown",
   "metadata": {},
   "source": [
    "### Compare the strategies\n",
    "Compute the number of times in v30d that are greater than 0 and less than 0. This corresponds with the number of times the fourth strategy was better than the second strategy and worse, respectively."
   ]
  },
  {
   "cell_type": "code",
   "execution_count": 49,
   "metadata": {},
   "outputs": [
    {
     "name": "stdout",
     "output_type": "stream",
     "text": [
      "Strategy 4 was better in 4426 cases, and Strategy 2 was better in 574 cases. The difference is 3852 cases\n"
     ]
    }
   ],
   "source": [
    "# Compute number of elements in v30d that are > 0 and < 0 and compare\n",
    "pos_count = (v30d > 0).sum()\n",
    "neg_count = (v30d <= 0).sum()\n",
    "\n",
    "print (\"Strategy 4 was better in %d cases, and Strategy 2 was better in %d cases. \"\n",
    "       \"The difference is %d cases\" % (pos_count, neg_count, pos_count-neg_count))"
   ]
  }
 ],
 "metadata": {
  "anaconda-cloud": {},
  "kernelspec": {
   "display_name": "Python 3",
   "language": "python",
   "name": "python3"
  },
  "language_info": {
   "codemirror_mode": {
    "name": "ipython",
    "version": 3
   },
   "file_extension": ".py",
   "mimetype": "text/x-python",
   "name": "python",
   "nbconvert_exporter": "python",
   "pygments_lexer": "ipython3",
   "version": "3.6.3"
  },
  "widgets": {
   "state": {},
   "version": "1.1.2"
  }
 },
 "nbformat": 4,
 "nbformat_minor": 1
}
